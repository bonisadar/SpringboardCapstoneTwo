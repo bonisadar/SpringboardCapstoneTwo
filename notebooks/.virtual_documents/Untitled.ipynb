import pandas as pd
import requests
from bs4 import BeautifulSoup


df = pd.read_csv('../data/interim/partial_cleaned.csv', index_col=0)


df.reset_index(drop=True, inplace=True)


df = df[['URL', 'label']]


df


def extract_form_features(url):
    try:
        # Send HTTP request to the URL
        response = requests.get(url)
        
        # If request is successful
        if response.status_code == 200:
            # Parse the HTML content
            soup = BeautifulSoup(response.content, 'html.parser')
            
            # Find all form elements
            forms = soup.find_all('form')
            
            # Initialize flags for each feature
            has_submit_button = False
            has_hidden_fields = False
            has_password_field = False
            
            # Loop through all forms and check for specific input types
            for form in forms:
                # Check for submit buttons (type="submit" or <button type="submit">)
                if form.find('input', {'type': 'submit'}) or form.find('button', {'type': 'submit'}):
                    has_submit_button = True
                
                # Check for hidden fields (type="hidden")
                if form.find('input', {'type': 'hidden'}):
                    has_hidden_fields = True
                
                # Check for password fields (type="password")
                if form.find('input', {'type': 'password'}):
                    has_password_field = True
            
            return {
                'HasSubmitButton': has_submit_button,
                'HasHiddenFields': has_hidden_fields,
                'HasPasswordField': has_password_field
            }
        else:
            return {
                'HasSubmitButton': False,
                'HasHiddenFields': False,
                'HasPasswordField': False
            }
    except requests.exceptions.RequestException as e:
        print(f"Error processing URL: {url}, Error: {e}")
        return {
            'HasSubmitButton': False,
            'HasHiddenFields': False,
            'HasPasswordField': False
        }

# Example usage:
url = "https://www.voicefmradio.co.uk"  # Replace with your URL
features = extract_form_features(url)
print(features)


df[['HasSubmitButton', 'HasHiddenFields', 'HasPasswordField']]



