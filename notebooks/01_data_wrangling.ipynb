{
 "cells": [
  {
   "cell_type": "markdown",
   "id": "8a43b1e6-ef35-42c3-a369-08064ae51033",
   "metadata": {},
   "source": [
    "## Contents<a id='3.1_Contents'></a>\n",
    "* [1 Data Wrangling](#1-Data-Wrangling)\n",
    "  * [1.1 Introduction](#1.1-Introduction)\n",
    "  * [1.2 Imports](#1.2-Imports)\n",
    "  * [1.3 Load the data](#1.3-Load-the-data)\n",
    "  * [1.4 Dataset overview](#1.4-Dataset-overview)\n",
    "  * [1.5 Exploring the dataset](#1.5-Exploring-the-dataset)\n",
    "    * [1.5.1 Exploring for non-ASCII characters](#1.5.1-Exploring-for-non-ASCII-characters)\n",
    "    * [1.5.2 Finding duplicates](#1.5.2-Finding-duplicates)\n",
    "    * [1.5.3 Finding URLs that start with characters other than numbers or letters](#1.5.3-Finding-URLs-that-start-with-characters-other-than-numbers-or-letters)\n",
    "    * [1.5.4 Removing spaces](#1.5.4-Removing-spaces)\n",
    "    * [1.5.5 Dropping URL's that has 2 or less characters](#1.5.5-Dropping-URL's-that-has-2-or-less-characters)"
   ]
  },
  {
   "cell_type": "markdown",
   "id": "4033df42-1aef-49b5-b0eb-7ff6da4528a3",
   "metadata": {},
   "source": [
    "# 1.1 Introductions"
   ]
  },
  {
   "cell_type": "markdown",
   "id": "416077e6-f107-49b3-9184-605bac7ef0fa",
   "metadata": {},
   "source": [
    "In this first notebook we will perform the preliminary data explorations to find the most basic errors in a dataset, e.g. missing values, duplicates, non-ASCII characters etc. Also, we will use our domain konwledge to perform some additional cleaning, e.g. removing '' or \"\" or any spaces in between the URL as we know URL's shouldn't have any spaces."
   ]
  },
  {
   "cell_type": "markdown",
   "id": "b62aeb8c-24e5-42f9-b6d1-c63972ecb01d",
   "metadata": {},
   "source": [
    "# 1.2 Imports"
   ]
  },
  {
   "cell_type": "code",
   "execution_count": 5,
   "id": "153e89eb-4067-4485-8b52-2ffd4eb7f31c",
   "metadata": {},
   "outputs": [],
   "source": [
    "import pandas as pd\n",
    "import numpy as np\n",
    "import re\n",
    "import requests\n",
    "from collections import Counter"
   ]
  },
  {
   "cell_type": "markdown",
   "id": "3df55f30-1e5a-4b4d-a622-33950bfef07e",
   "metadata": {},
   "source": [
    "# 1.3 Load the data"
   ]
  },
  {
   "cell_type": "code",
   "execution_count": 7,
   "id": "8203bbce-d2c5-4be1-83db-04f1a77fc5f1",
   "metadata": {},
   "outputs": [
    {
     "data": {
      "text/html": [
       "<div>\n",
       "<style scoped>\n",
       "    .dataframe tbody tr th:only-of-type {\n",
       "        vertical-align: middle;\n",
       "    }\n",
       "\n",
       "    .dataframe tbody tr th {\n",
       "        vertical-align: top;\n",
       "    }\n",
       "\n",
       "    .dataframe thead th {\n",
       "        text-align: right;\n",
       "    }\n",
       "</style>\n",
       "<table border=\"1\" class=\"dataframe\">\n",
       "  <thead>\n",
       "    <tr style=\"text-align: right;\">\n",
       "      <th></th>\n",
       "      <th>url</th>\n",
       "      <th>status</th>\n",
       "    </tr>\n",
       "  </thead>\n",
       "  <tbody>\n",
       "    <tr>\n",
       "      <th>0</th>\n",
       "      <td>0000111servicehelpdesk.godaddysites.com</td>\n",
       "      <td>0</td>\n",
       "    </tr>\n",
       "    <tr>\n",
       "      <th>1</th>\n",
       "      <td>000011accesswebform.godaddysites.com</td>\n",
       "      <td>0</td>\n",
       "    </tr>\n",
       "    <tr>\n",
       "      <th>2</th>\n",
       "      <td>00003.online</td>\n",
       "      <td>0</td>\n",
       "    </tr>\n",
       "    <tr>\n",
       "      <th>3</th>\n",
       "      <td>0009servicedeskowa.godaddysites.com</td>\n",
       "      <td>0</td>\n",
       "    </tr>\n",
       "    <tr>\n",
       "      <th>4</th>\n",
       "      <td>000n38p.wcomhost.com</td>\n",
       "      <td>0</td>\n",
       "    </tr>\n",
       "  </tbody>\n",
       "</table>\n",
       "</div>"
      ],
      "text/plain": [
       "                                       url  status\n",
       "0  0000111servicehelpdesk.godaddysites.com       0\n",
       "1     000011accesswebform.godaddysites.com       0\n",
       "2                             00003.online       0\n",
       "3      0009servicedeskowa.godaddysites.com       0\n",
       "4                     000n38p.wcomhost.com       0"
      ]
     },
     "execution_count": 7,
     "metadata": {},
     "output_type": "execute_result"
    }
   ],
   "source": [
    "df = pd.read_csv('../data/raw/new_data_urls.csv')\n",
    "df.head()"
   ]
  },
  {
   "cell_type": "markdown",
   "id": "0b36dfc6-4461-422c-a52a-b997891256cc",
   "metadata": {},
   "source": [
    "# 1.4 Dataset overview"
   ]
  },
  {
   "cell_type": "code",
   "execution_count": 9,
   "id": "1d853060-639c-490a-8c56-f157eb3c77a9",
   "metadata": {},
   "outputs": [
    {
     "data": {
      "text/html": [
       "<div>\n",
       "<style scoped>\n",
       "    .dataframe tbody tr th:only-of-type {\n",
       "        vertical-align: middle;\n",
       "    }\n",
       "\n",
       "    .dataframe tbody tr th {\n",
       "        vertical-align: top;\n",
       "    }\n",
       "\n",
       "    .dataframe thead th {\n",
       "        text-align: right;\n",
       "    }\n",
       "</style>\n",
       "<table border=\"1\" class=\"dataframe\">\n",
       "  <thead>\n",
       "    <tr style=\"text-align: right;\">\n",
       "      <th></th>\n",
       "      <th>status</th>\n",
       "    </tr>\n",
       "  </thead>\n",
       "  <tbody>\n",
       "    <tr>\n",
       "      <th>count</th>\n",
       "      <td>822010.000000</td>\n",
       "    </tr>\n",
       "    <tr>\n",
       "      <th>mean</th>\n",
       "      <td>0.519492</td>\n",
       "    </tr>\n",
       "    <tr>\n",
       "      <th>std</th>\n",
       "      <td>0.499620</td>\n",
       "    </tr>\n",
       "    <tr>\n",
       "      <th>min</th>\n",
       "      <td>0.000000</td>\n",
       "    </tr>\n",
       "    <tr>\n",
       "      <th>25%</th>\n",
       "      <td>0.000000</td>\n",
       "    </tr>\n",
       "    <tr>\n",
       "      <th>50%</th>\n",
       "      <td>1.000000</td>\n",
       "    </tr>\n",
       "    <tr>\n",
       "      <th>75%</th>\n",
       "      <td>1.000000</td>\n",
       "    </tr>\n",
       "    <tr>\n",
       "      <th>max</th>\n",
       "      <td>1.000000</td>\n",
       "    </tr>\n",
       "  </tbody>\n",
       "</table>\n",
       "</div>"
      ],
      "text/plain": [
       "              status\n",
       "count  822010.000000\n",
       "mean        0.519492\n",
       "std         0.499620\n",
       "min         0.000000\n",
       "25%         0.000000\n",
       "50%         1.000000\n",
       "75%         1.000000\n",
       "max         1.000000"
      ]
     },
     "execution_count": 9,
     "metadata": {},
     "output_type": "execute_result"
    }
   ],
   "source": [
    "df.describe()"
   ]
  },
  {
   "cell_type": "code",
   "execution_count": 10,
   "id": "0b61670e-c0b6-4c73-a998-70c3cd837724",
   "metadata": {},
   "outputs": [
    {
     "data": {
      "text/plain": [
       "url       object\n",
       "status     int64\n",
       "dtype: object"
      ]
     },
     "execution_count": 10,
     "metadata": {},
     "output_type": "execute_result"
    }
   ],
   "source": [
    "df.dtypes"
   ]
  },
  {
   "cell_type": "code",
   "execution_count": 11,
   "id": "73a83cb7-c926-4f90-a7a5-4e6ba915febc",
   "metadata": {},
   "outputs": [
    {
     "data": {
      "text/plain": [
       "url       0\n",
       "status    0\n",
       "dtype: int64"
      ]
     },
     "execution_count": 11,
     "metadata": {},
     "output_type": "execute_result"
    }
   ],
   "source": [
    "df.isnull().sum()"
   ]
  },
  {
   "cell_type": "code",
   "execution_count": 12,
   "id": "2b86000d-cafa-4e03-91e1-1da0aae9a28d",
   "metadata": {},
   "outputs": [
    {
     "data": {
      "text/plain": [
       "Index(['url', 'status'], dtype='object')"
      ]
     },
     "execution_count": 12,
     "metadata": {},
     "output_type": "execute_result"
    }
   ],
   "source": [
    "df.columns"
   ]
  },
  {
   "cell_type": "code",
   "execution_count": 13,
   "id": "25cc6be0-2254-4edb-8ff4-5715519ca1c5",
   "metadata": {},
   "outputs": [
    {
     "data": {
      "text/plain": [
       "(822010, 2)"
      ]
     },
     "execution_count": 13,
     "metadata": {},
     "output_type": "execute_result"
    }
   ],
   "source": [
    "df.shape"
   ]
  },
  {
   "cell_type": "code",
   "execution_count": 14,
   "id": "90f43ea4-8fb0-4b00-b4fc-94e36fd87903",
   "metadata": {},
   "outputs": [
    {
     "data": {
      "text/plain": [
       "url       WY\n",
       "status     1\n",
       "Name: 210264, dtype: object"
      ]
     },
     "execution_count": 14,
     "metadata": {},
     "output_type": "execute_result"
    }
   ],
   "source": [
    "df.loc[210264, :]"
   ]
  },
  {
   "cell_type": "markdown",
   "id": "f68869c8-0e7d-4e25-9a31-d0dd7abbad09",
   "metadata": {},
   "source": [
    "# 1.5 Exploring the dataset"
   ]
  },
  {
   "cell_type": "markdown",
   "id": "eabd92cc-558f-42d3-b269-d658a5e20fed",
   "metadata": {},
   "source": [
    "### 1.5.1 Exploring for non-ASCII characters"
   ]
  },
  {
   "cell_type": "code",
   "execution_count": 17,
   "id": "e6e24234-ccee-4a5c-a6f6-417b767a0ed2",
   "metadata": {},
   "outputs": [],
   "source": [
    "def contains_foreign_characters(url):\n",
    "    '''A function to find out urls with non-ASCII characters'''\n",
    "    return bool(re.search(r'[^\\x00-\\x7F]', url))"
   ]
  },
  {
   "cell_type": "code",
   "execution_count": 18,
   "id": "7741a315-2b10-4786-ae7b-a72893039854",
   "metadata": {},
   "outputs": [],
   "source": [
    "df['url_contains_foreign'] = df['url'].apply(contains_foreign_characters)"
   ]
  },
  {
   "cell_type": "code",
   "execution_count": 19,
   "id": "9e07e251-5149-4d9d-8c63-2537cb658ebc",
   "metadata": {},
   "outputs": [
    {
     "data": {
      "text/html": [
       "<div>\n",
       "<style scoped>\n",
       "    .dataframe tbody tr th:only-of-type {\n",
       "        vertical-align: middle;\n",
       "    }\n",
       "\n",
       "    .dataframe tbody tr th {\n",
       "        vertical-align: top;\n",
       "    }\n",
       "\n",
       "    .dataframe thead th {\n",
       "        text-align: right;\n",
       "    }\n",
       "</style>\n",
       "<table border=\"1\" class=\"dataframe\">\n",
       "  <thead>\n",
       "    <tr style=\"text-align: right;\">\n",
       "      <th></th>\n",
       "      <th>url</th>\n",
       "      <th>status</th>\n",
       "      <th>url_contains_foreign</th>\n",
       "    </tr>\n",
       "  </thead>\n",
       "  <tbody>\n",
       "    <tr>\n",
       "      <th>28801</th>\n",
       "      <td>http://email302.com/l/5fc15ea15e66c082e33c48ba...</td>\n",
       "      <td>0</td>\n",
       "      <td>True</td>\n",
       "    </tr>\n",
       "    <tr>\n",
       "      <th>29659</th>\n",
       "      <td>http://email302.com/l/5fc15ea15e66c082e33c48ba...</td>\n",
       "      <td>0</td>\n",
       "      <td>True</td>\n",
       "    </tr>\n",
       "    <tr>\n",
       "      <th>29742</th>\n",
       "      <td>http://u1146016e85.ha004.t.justns.ru/sociﾃｩtﾃｩ...</td>\n",
       "      <td>0</td>\n",
       "      <td>True</td>\n",
       "    </tr>\n",
       "    <tr>\n",
       "      <th>30045</th>\n",
       "      <td>http://u10955164a4.ha004.t.justns.ru/sociﾃｩtﾃｩ...</td>\n",
       "      <td>0</td>\n",
       "      <td>True</td>\n",
       "    </tr>\n",
       "    <tr>\n",
       "      <th>30311</th>\n",
       "      <td>http://email302.com/l/5fc15ea15e66c082e33c48ba...</td>\n",
       "      <td>0</td>\n",
       "      <td>True</td>\n",
       "    </tr>\n",
       "    <tr>\n",
       "      <th>...</th>\n",
       "      <td>...</td>\n",
       "      <td>...</td>\n",
       "      <td>...</td>\n",
       "    </tr>\n",
       "    <tr>\n",
       "      <th>678980</th>\n",
       "      <td>copy.com/s8w9tqqzVDaXIkcR/הריגתו של קצין ביטחו...</td>\n",
       "      <td>0</td>\n",
       "      <td>True</td>\n",
       "    </tr>\n",
       "    <tr>\n",
       "      <th>679836</th>\n",
       "      <td>venezuela365.com/wp-content/uploads/2014/10/ti...</td>\n",
       "      <td>0</td>\n",
       "      <td>True</td>\n",
       "    </tr>\n",
       "    <tr>\n",
       "      <th>679852</th>\n",
       "      <td>www.hjclub.info/bbs/uploadfiles/45/ca-bundle.exe’</td>\n",
       "      <td>0</td>\n",
       "      <td>True</td>\n",
       "    </tr>\n",
       "    <tr>\n",
       "      <th>749894</th>\n",
       "      <td>http://email302.com/l/5fc15ea15e66c082e33c48ba...</td>\n",
       "      <td>0</td>\n",
       "      <td>True</td>\n",
       "    </tr>\n",
       "    <tr>\n",
       "      <th>749895</th>\n",
       "      <td>http://email302.com/l/5fc15ea15e66c082e33c48ba...</td>\n",
       "      <td>0</td>\n",
       "      <td>True</td>\n",
       "    </tr>\n",
       "  </tbody>\n",
       "</table>\n",
       "<p>425 rows × 3 columns</p>\n",
       "</div>"
      ],
      "text/plain": [
       "                                                      url  status  \\\n",
       "28801   http://email302.com/l/5fc15ea15e66c082e33c48ba...       0   \n",
       "29659   http://email302.com/l/5fc15ea15e66c082e33c48ba...       0   \n",
       "29742   http://u1146016e85.ha004.t.justns.ru/sociﾃｩtﾃｩ...       0   \n",
       "30045   http://u10955164a4.ha004.t.justns.ru/sociﾃｩtﾃｩ...       0   \n",
       "30311   http://email302.com/l/5fc15ea15e66c082e33c48ba...       0   \n",
       "...                                                   ...     ...   \n",
       "678980  copy.com/s8w9tqqzVDaXIkcR/הריגתו של קצין ביטחו...       0   \n",
       "679836  venezuela365.com/wp-content/uploads/2014/10/ti...       0   \n",
       "679852  www.hjclub.info/bbs/uploadfiles/45/ca-bundle.exe’       0   \n",
       "749894  http://email302.com/l/5fc15ea15e66c082e33c48ba...       0   \n",
       "749895  http://email302.com/l/5fc15ea15e66c082e33c48ba...       0   \n",
       "\n",
       "        url_contains_foreign  \n",
       "28801                   True  \n",
       "29659                   True  \n",
       "29742                   True  \n",
       "30045                   True  \n",
       "30311                   True  \n",
       "...                      ...  \n",
       "678980                  True  \n",
       "679836                  True  \n",
       "679852                  True  \n",
       "749894                  True  \n",
       "749895                  True  \n",
       "\n",
       "[425 rows x 3 columns]"
      ]
     },
     "execution_count": 19,
     "metadata": {},
     "output_type": "execute_result"
    }
   ],
   "source": [
    "df[df['url_contains_foreign'] == True]"
   ]
  },
  {
   "cell_type": "markdown",
   "id": "9f81c563-f0f4-4da8-89de-43082137778d",
   "metadata": {},
   "source": [
    "There are 425 urls that contains non-ASCII characters. We can drop these rows as their percentage is negligible, 0.05%."
   ]
  },
  {
   "cell_type": "markdown",
   "id": "6a1f52bf-3559-4699-95ee-c5ae273b3d8e",
   "metadata": {},
   "source": [
    "##### Dropping the urls containing foreign characters"
   ]
  },
  {
   "cell_type": "code",
   "execution_count": 22,
   "id": "a2ba3eef-e233-4456-a7f9-76bb274679cf",
   "metadata": {},
   "outputs": [],
   "source": [
    "df = df[~df['url_contains_foreign'] == True]"
   ]
  },
  {
   "cell_type": "code",
   "execution_count": 23,
   "id": "c7fd6077-49d4-4bc0-b6ea-d72cd64f9315",
   "metadata": {},
   "outputs": [
    {
     "data": {
      "text/html": [
       "<div>\n",
       "<style scoped>\n",
       "    .dataframe tbody tr th:only-of-type {\n",
       "        vertical-align: middle;\n",
       "    }\n",
       "\n",
       "    .dataframe tbody tr th {\n",
       "        vertical-align: top;\n",
       "    }\n",
       "\n",
       "    .dataframe thead th {\n",
       "        text-align: right;\n",
       "    }\n",
       "</style>\n",
       "<table border=\"1\" class=\"dataframe\">\n",
       "  <thead>\n",
       "    <tr style=\"text-align: right;\">\n",
       "      <th></th>\n",
       "      <th>url</th>\n",
       "      <th>status</th>\n",
       "      <th>url_contains_foreign</th>\n",
       "    </tr>\n",
       "  </thead>\n",
       "  <tbody>\n",
       "  </tbody>\n",
       "</table>\n",
       "</div>"
      ],
      "text/plain": [
       "Empty DataFrame\n",
       "Columns: [url, status, url_contains_foreign]\n",
       "Index: []"
      ]
     },
     "execution_count": 23,
     "metadata": {},
     "output_type": "execute_result"
    }
   ],
   "source": [
    "df[df['url_contains_foreign'] == True]"
   ]
  },
  {
   "cell_type": "code",
   "execution_count": 24,
   "id": "8fe484a8-b8cc-4432-83d3-30e3f48e37c3",
   "metadata": {},
   "outputs": [
    {
     "data": {
      "text/plain": [
       "url                     0\n",
       "status                  0\n",
       "url_contains_foreign    0\n",
       "dtype: int64"
      ]
     },
     "execution_count": 24,
     "metadata": {},
     "output_type": "execute_result"
    }
   ],
   "source": [
    "df.isnull().sum()"
   ]
  },
  {
   "cell_type": "code",
   "execution_count": 25,
   "id": "9a6877bf-868c-4ea0-a72b-a0b9569fa082",
   "metadata": {},
   "outputs": [],
   "source": [
    "df.drop(columns='url_contains_foreign', inplace=True)"
   ]
  },
  {
   "cell_type": "code",
   "execution_count": 26,
   "id": "01eb2a23-9eab-4a5e-8c81-95c134b5e334",
   "metadata": {},
   "outputs": [
    {
     "data": {
      "text/html": [
       "<div>\n",
       "<style scoped>\n",
       "    .dataframe tbody tr th:only-of-type {\n",
       "        vertical-align: middle;\n",
       "    }\n",
       "\n",
       "    .dataframe tbody tr th {\n",
       "        vertical-align: top;\n",
       "    }\n",
       "\n",
       "    .dataframe thead th {\n",
       "        text-align: right;\n",
       "    }\n",
       "</style>\n",
       "<table border=\"1\" class=\"dataframe\">\n",
       "  <thead>\n",
       "    <tr style=\"text-align: right;\">\n",
       "      <th></th>\n",
       "      <th>url</th>\n",
       "      <th>status</th>\n",
       "    </tr>\n",
       "  </thead>\n",
       "  <tbody>\n",
       "    <tr>\n",
       "      <th>0</th>\n",
       "      <td>0000111servicehelpdesk.godaddysites.com</td>\n",
       "      <td>0</td>\n",
       "    </tr>\n",
       "    <tr>\n",
       "      <th>1</th>\n",
       "      <td>000011accesswebform.godaddysites.com</td>\n",
       "      <td>0</td>\n",
       "    </tr>\n",
       "    <tr>\n",
       "      <th>2</th>\n",
       "      <td>00003.online</td>\n",
       "      <td>0</td>\n",
       "    </tr>\n",
       "    <tr>\n",
       "      <th>3</th>\n",
       "      <td>0009servicedeskowa.godaddysites.com</td>\n",
       "      <td>0</td>\n",
       "    </tr>\n",
       "    <tr>\n",
       "      <th>4</th>\n",
       "      <td>000n38p.wcomhost.com</td>\n",
       "      <td>0</td>\n",
       "    </tr>\n",
       "  </tbody>\n",
       "</table>\n",
       "</div>"
      ],
      "text/plain": [
       "                                       url  status\n",
       "0  0000111servicehelpdesk.godaddysites.com       0\n",
       "1     000011accesswebform.godaddysites.com       0\n",
       "2                             00003.online       0\n",
       "3      0009servicedeskowa.godaddysites.com       0\n",
       "4                     000n38p.wcomhost.com       0"
      ]
     },
     "execution_count": 26,
     "metadata": {},
     "output_type": "execute_result"
    }
   ],
   "source": [
    "df.head()"
   ]
  },
  {
   "cell_type": "markdown",
   "id": "c2baf21f-0a6d-4411-91a7-0ea7b9a2887b",
   "metadata": {},
   "source": [
    "### 1.5.2 Finding duplicates "
   ]
  },
  {
   "cell_type": "code",
   "execution_count": 28,
   "id": "4dce0b00-a8d2-4db4-9a22-6f703c4a831e",
   "metadata": {},
   "outputs": [
    {
     "data": {
      "text/plain": [
       "13967"
      ]
     },
     "execution_count": 28,
     "metadata": {},
     "output_type": "execute_result"
    }
   ],
   "source": [
    "df.duplicated().sum()"
   ]
  },
  {
   "cell_type": "markdown",
   "id": "bdb33e15-47d7-4c2d-a5f3-f02791ca0115",
   "metadata": {},
   "source": [
    "Duplicate rows are very few in number, we need to drop them."
   ]
  },
  {
   "cell_type": "code",
   "execution_count": 30,
   "id": "ae9c3f46-b3d5-4632-aedc-63466720ecdb",
   "metadata": {},
   "outputs": [],
   "source": [
    "df.drop_duplicates(inplace=True)"
   ]
  },
  {
   "cell_type": "code",
   "execution_count": 31,
   "id": "6f56b6ab-595b-4c10-ae05-57d267432b4c",
   "metadata": {},
   "outputs": [
    {
     "data": {
      "text/plain": [
       "0"
      ]
     },
     "execution_count": 31,
     "metadata": {},
     "output_type": "execute_result"
    }
   ],
   "source": [
    "df.duplicated().sum()"
   ]
  },
  {
   "cell_type": "markdown",
   "id": "c3c432bd-b319-4029-b0a0-af071d719fc1",
   "metadata": {},
   "source": [
    "### 1.5.3 Finding URLs that start with characters other than numbers or letters"
   ]
  },
  {
   "cell_type": "code",
   "execution_count": 33,
   "id": "3f8dc68c-0444-4fe6-a57b-e56defc4ad64",
   "metadata": {},
   "outputs": [
    {
     "data": {
      "text/html": [
       "<div>\n",
       "<style scoped>\n",
       "    .dataframe tbody tr th:only-of-type {\n",
       "        vertical-align: middle;\n",
       "    }\n",
       "\n",
       "    .dataframe tbody tr th {\n",
       "        vertical-align: top;\n",
       "    }\n",
       "\n",
       "    .dataframe thead th {\n",
       "        text-align: right;\n",
       "    }\n",
       "</style>\n",
       "<table border=\"1\" class=\"dataframe\">\n",
       "  <thead>\n",
       "    <tr style=\"text-align: right;\">\n",
       "      <th></th>\n",
       "      <th>url</th>\n",
       "      <th>status</th>\n",
       "    </tr>\n",
       "  </thead>\n",
       "  <tbody>\n",
       "    <tr>\n",
       "      <th>191868</th>\n",
       "      <td>-https://www.cinemaximum.com.tr/cakallarla-dan...</td>\n",
       "      <td>1</td>\n",
       "    </tr>\n",
       "    <tr>\n",
       "      <th>192050</th>\n",
       "      <td>'motors.shop.ebay.com-cars-trucks-724527.jnq3....</td>\n",
       "      <td>0</td>\n",
       "    </tr>\n",
       "    <tr>\n",
       "      <th>192064</th>\n",
       "      <td>'www.gestion-des-impayes.com/visuel.php?param=...</td>\n",
       "      <td>0</td>\n",
       "    </tr>\n",
       "    <tr>\n",
       "      <th>192141</th>\n",
       "      <td>'nicolecustodio.com.br/paypal\\%20us/webscr.htm...</td>\n",
       "      <td>0</td>\n",
       "    </tr>\n",
       "    <tr>\n",
       "      <th>192227</th>\n",
       "      <td>'beforenanny911.com/auto/my-themes/file/proper...</td>\n",
       "      <td>0</td>\n",
       "    </tr>\n",
       "    <tr>\n",
       "      <th>...</th>\n",
       "      <td>...</td>\n",
       "      <td>...</td>\n",
       "    </tr>\n",
       "    <tr>\n",
       "      <th>680466</th>\n",
       "      <td>intent.nofrillspace.com/users/web11_focus/380...</td>\n",
       "      <td>0</td>\n",
       "    </tr>\n",
       "    <tr>\n",
       "      <th>680468</th>\n",
       "      <td>mister.nofrillspace.com/users/web8_dice/3791/...</td>\n",
       "      <td>0</td>\n",
       "    </tr>\n",
       "    <tr>\n",
       "      <th>684998</th>\n",
       "      <td>69.162.100.198/</td>\n",
       "      <td>0</td>\n",
       "    </tr>\n",
       "    <tr>\n",
       "      <th>685257</th>\n",
       "      <td>babicz123.ddns.net/</td>\n",
       "      <td>0</td>\n",
       "    </tr>\n",
       "    <tr>\n",
       "      <th>699156</th>\n",
       "      <td>highpowerresources.com</td>\n",
       "      <td>0</td>\n",
       "    </tr>\n",
       "  </tbody>\n",
       "</table>\n",
       "<p>3917 rows × 2 columns</p>\n",
       "</div>"
      ],
      "text/plain": [
       "                                                      url  status\n",
       "191868  -https://www.cinemaximum.com.tr/cakallarla-dan...       1\n",
       "192050  'motors.shop.ebay.com-cars-trucks-724527.jnq3....       0\n",
       "192064  'www.gestion-des-impayes.com/visuel.php?param=...       0\n",
       "192141  'nicolecustodio.com.br/paypal\\%20us/webscr.htm...       0\n",
       "192227  'beforenanny911.com/auto/my-themes/file/proper...       0\n",
       "...                                                   ...     ...\n",
       "680466   intent.nofrillspace.com/users/web11_focus/380...       0\n",
       "680468   mister.nofrillspace.com/users/web8_dice/3791/...       0\n",
       "684998                                    69.162.100.198/       0\n",
       "685257                                babicz123.ddns.net/       0\n",
       "699156                             highpowerresources.com       0\n",
       "\n",
       "[3917 rows x 2 columns]"
      ]
     },
     "execution_count": 33,
     "metadata": {},
     "output_type": "execute_result"
    }
   ],
   "source": [
    "df[df['url'].str.match(r'^[^a-zA-Z0-9]')]"
   ]
  },
  {
   "cell_type": "markdown",
   "id": "8b9176bd-38aa-404a-b15a-01a2c08c9e6d",
   "metadata": {},
   "source": [
    "##### Finding URLs that are enclosed in either single quotes (') or double quotes (\")"
   ]
  },
  {
   "cell_type": "code",
   "execution_count": 35,
   "id": "000e3e5f-25fe-495a-a044-1846cf05506a",
   "metadata": {},
   "outputs": [
    {
     "data": {
      "text/html": [
       "<div>\n",
       "<style scoped>\n",
       "    .dataframe tbody tr th:only-of-type {\n",
       "        vertical-align: middle;\n",
       "    }\n",
       "\n",
       "    .dataframe tbody tr th {\n",
       "        vertical-align: top;\n",
       "    }\n",
       "\n",
       "    .dataframe thead th {\n",
       "        text-align: right;\n",
       "    }\n",
       "</style>\n",
       "<table border=\"1\" class=\"dataframe\">\n",
       "  <thead>\n",
       "    <tr style=\"text-align: right;\">\n",
       "      <th></th>\n",
       "      <th>url</th>\n",
       "      <th>status</th>\n",
       "    </tr>\n",
       "  </thead>\n",
       "  <tbody>\n",
       "    <tr>\n",
       "      <th>192050</th>\n",
       "      <td>'motors.shop.ebay.com-cars-trucks-724527.jnq3....</td>\n",
       "      <td>0</td>\n",
       "    </tr>\n",
       "    <tr>\n",
       "      <th>192064</th>\n",
       "      <td>'www.gestion-des-impayes.com/visuel.php?param=...</td>\n",
       "      <td>0</td>\n",
       "    </tr>\n",
       "    <tr>\n",
       "      <th>192141</th>\n",
       "      <td>'nicolecustodio.com.br/paypal\\%20us/webscr.htm...</td>\n",
       "      <td>0</td>\n",
       "    </tr>\n",
       "    <tr>\n",
       "      <th>192227</th>\n",
       "      <td>'beforenanny911.com/auto/my-themes/file/proper...</td>\n",
       "      <td>0</td>\n",
       "    </tr>\n",
       "    <tr>\n",
       "      <th>192234</th>\n",
       "      <td>'www.edyshsdf32.hut4.ru/Redirecionamento.html?...</td>\n",
       "      <td>0</td>\n",
       "    </tr>\n",
       "    <tr>\n",
       "      <th>...</th>\n",
       "      <td>...</td>\n",
       "      <td>...</td>\n",
       "    </tr>\n",
       "    <tr>\n",
       "      <th>287613</th>\n",
       "      <td>'www.fileplanet.com/100541/0/section/Marc-Ecko...</td>\n",
       "      <td>1</td>\n",
       "    </tr>\n",
       "    <tr>\n",
       "      <th>287615</th>\n",
       "      <td>'en.wikipedia.org/wiki/Marc_Ecko\\'s_Getting_Up...</td>\n",
       "      <td>1</td>\n",
       "    </tr>\n",
       "    <tr>\n",
       "      <th>287928</th>\n",
       "      <td>'www.armchairempire.com/Reviews/PC\\%20Games/al...</td>\n",
       "      <td>1</td>\n",
       "    </tr>\n",
       "    <tr>\n",
       "      <th>287932</th>\n",
       "      <td>'www.mobygames.com/game_group/sheet/gameGroupI...</td>\n",
       "      <td>1</td>\n",
       "    </tr>\n",
       "    <tr>\n",
       "      <th>287959</th>\n",
       "      <td>'www.armchairempire.com/Reviews/PC\\%20Games/un...</td>\n",
       "      <td>1</td>\n",
       "    </tr>\n",
       "  </tbody>\n",
       "</table>\n",
       "<p>3900 rows × 2 columns</p>\n",
       "</div>"
      ],
      "text/plain": [
       "                                                      url  status\n",
       "192050  'motors.shop.ebay.com-cars-trucks-724527.jnq3....       0\n",
       "192064  'www.gestion-des-impayes.com/visuel.php?param=...       0\n",
       "192141  'nicolecustodio.com.br/paypal\\%20us/webscr.htm...       0\n",
       "192227  'beforenanny911.com/auto/my-themes/file/proper...       0\n",
       "192234  'www.edyshsdf32.hut4.ru/Redirecionamento.html?...       0\n",
       "...                                                   ...     ...\n",
       "287613  'www.fileplanet.com/100541/0/section/Marc-Ecko...       1\n",
       "287615  'en.wikipedia.org/wiki/Marc_Ecko\\'s_Getting_Up...       1\n",
       "287928  'www.armchairempire.com/Reviews/PC\\%20Games/al...       1\n",
       "287932  'www.mobygames.com/game_group/sheet/gameGroupI...       1\n",
       "287959  'www.armchairempire.com/Reviews/PC\\%20Games/un...       1\n",
       "\n",
       "[3900 rows x 2 columns]"
      ]
     },
     "execution_count": 35,
     "metadata": {},
     "output_type": "execute_result"
    }
   ],
   "source": [
    "df[df['url'].str.contains(r\"^['\\\"].*['\\\"]$\", na=False)]"
   ]
  },
  {
   "cell_type": "markdown",
   "id": "7da65a9f-577e-4c7c-9247-d95540dbcd6a",
   "metadata": {},
   "source": [
    "##### Removing the quotes and special characters in front of the urls"
   ]
  },
  {
   "cell_type": "code",
   "execution_count": 37,
   "id": "25a8b281-3516-4fa2-ab47-593379edce89",
   "metadata": {},
   "outputs": [],
   "source": [
    "df['url'] = df['url'].str.replace(r\"^['\\\"^\\W]+\", '', regex=True)"
   ]
  },
  {
   "cell_type": "code",
   "execution_count": 38,
   "id": "e487f1fc-9cf4-4780-9280-360774c44384",
   "metadata": {},
   "outputs": [
    {
     "data": {
      "text/html": [
       "<div>\n",
       "<style scoped>\n",
       "    .dataframe tbody tr th:only-of-type {\n",
       "        vertical-align: middle;\n",
       "    }\n",
       "\n",
       "    .dataframe tbody tr th {\n",
       "        vertical-align: top;\n",
       "    }\n",
       "\n",
       "    .dataframe thead th {\n",
       "        text-align: right;\n",
       "    }\n",
       "</style>\n",
       "<table border=\"1\" class=\"dataframe\">\n",
       "  <thead>\n",
       "    <tr style=\"text-align: right;\">\n",
       "      <th></th>\n",
       "      <th>url</th>\n",
       "      <th>status</th>\n",
       "    </tr>\n",
       "  </thead>\n",
       "  <tbody>\n",
       "  </tbody>\n",
       "</table>\n",
       "</div>"
      ],
      "text/plain": [
       "Empty DataFrame\n",
       "Columns: [url, status]\n",
       "Index: []"
      ]
     },
     "execution_count": 38,
     "metadata": {},
     "output_type": "execute_result"
    }
   ],
   "source": [
    "df[df['url'].str.match(r'^[^a-zA-Z0-9]')]"
   ]
  },
  {
   "cell_type": "code",
   "execution_count": 39,
   "id": "3d5859b9-2579-4e04-b807-92eb720ff62a",
   "metadata": {},
   "outputs": [
    {
     "data": {
      "text/html": [
       "<div>\n",
       "<style scoped>\n",
       "    .dataframe tbody tr th:only-of-type {\n",
       "        vertical-align: middle;\n",
       "    }\n",
       "\n",
       "    .dataframe tbody tr th {\n",
       "        vertical-align: top;\n",
       "    }\n",
       "\n",
       "    .dataframe thead th {\n",
       "        text-align: right;\n",
       "    }\n",
       "</style>\n",
       "<table border=\"1\" class=\"dataframe\">\n",
       "  <thead>\n",
       "    <tr style=\"text-align: right;\">\n",
       "      <th></th>\n",
       "      <th>url</th>\n",
       "      <th>status</th>\n",
       "    </tr>\n",
       "  </thead>\n",
       "  <tbody>\n",
       "  </tbody>\n",
       "</table>\n",
       "</div>"
      ],
      "text/plain": [
       "Empty DataFrame\n",
       "Columns: [url, status]\n",
       "Index: []"
      ]
     },
     "execution_count": 39,
     "metadata": {},
     "output_type": "execute_result"
    }
   ],
   "source": [
    "df[df['url'].str.contains(r\"^['\\\"].*['\\\"]$\", na=False)]"
   ]
  },
  {
   "cell_type": "code",
   "execution_count": 40,
   "id": "f9e1983b-4d46-4abb-b850-93902da93d12",
   "metadata": {},
   "outputs": [
    {
     "data": {
      "text/plain": [
       "url       0\n",
       "status    0\n",
       "dtype: int64"
      ]
     },
     "execution_count": 40,
     "metadata": {},
     "output_type": "execute_result"
    }
   ],
   "source": [
    "df.isnull().sum()"
   ]
  },
  {
   "cell_type": "markdown",
   "id": "cd8d22f1-c4a7-4130-8edc-2d05dcb94247",
   "metadata": {},
   "source": [
    "### 1.5.4 Removing spaces"
   ]
  },
  {
   "cell_type": "code",
   "execution_count": 42,
   "id": "bec79147-eba2-494e-b630-3adf3d6f6544",
   "metadata": {},
   "outputs": [],
   "source": [
    "def remove_spaces(url):\n",
    "    return url.replace(' ', '')  # Replaces all spaces with an empty string"
   ]
  },
  {
   "cell_type": "code",
   "execution_count": 43,
   "id": "2ea4a776-521a-45d5-bb83-aec74a44ba13",
   "metadata": {},
   "outputs": [],
   "source": [
    "df['url'] = df['url'].apply(remove_spaces)"
   ]
  },
  {
   "cell_type": "code",
   "execution_count": 44,
   "id": "0f9977a6-21c6-4702-a1a7-bd7c13580e98",
   "metadata": {},
   "outputs": [],
   "source": [
    "def has_space(url):\n",
    "    return ' ' in url"
   ]
  },
  {
   "cell_type": "code",
   "execution_count": 45,
   "id": "70e1ab33-d906-494e-819b-868083f52545",
   "metadata": {},
   "outputs": [
    {
     "data": {
      "text/html": [
       "<div>\n",
       "<style scoped>\n",
       "    .dataframe tbody tr th:only-of-type {\n",
       "        vertical-align: middle;\n",
       "    }\n",
       "\n",
       "    .dataframe tbody tr th {\n",
       "        vertical-align: top;\n",
       "    }\n",
       "\n",
       "    .dataframe thead th {\n",
       "        text-align: right;\n",
       "    }\n",
       "</style>\n",
       "<table border=\"1\" class=\"dataframe\">\n",
       "  <thead>\n",
       "    <tr style=\"text-align: right;\">\n",
       "      <th></th>\n",
       "      <th>url</th>\n",
       "      <th>status</th>\n",
       "    </tr>\n",
       "  </thead>\n",
       "  <tbody>\n",
       "  </tbody>\n",
       "</table>\n",
       "</div>"
      ],
      "text/plain": [
       "Empty DataFrame\n",
       "Columns: [url, status]\n",
       "Index: []"
      ]
     },
     "execution_count": 45,
     "metadata": {},
     "output_type": "execute_result"
    }
   ],
   "source": [
    "df[(df['url'].apply(has_space)) & (df.status == 0)]"
   ]
  },
  {
   "cell_type": "code",
   "execution_count": 46,
   "id": "667b1ed6-5cf9-4998-8ec6-1d4990181d6e",
   "metadata": {},
   "outputs": [
    {
     "data": {
      "text/html": [
       "<div>\n",
       "<style scoped>\n",
       "    .dataframe tbody tr th:only-of-type {\n",
       "        vertical-align: middle;\n",
       "    }\n",
       "\n",
       "    .dataframe tbody tr th {\n",
       "        vertical-align: top;\n",
       "    }\n",
       "\n",
       "    .dataframe thead th {\n",
       "        text-align: right;\n",
       "    }\n",
       "</style>\n",
       "<table border=\"1\" class=\"dataframe\">\n",
       "  <thead>\n",
       "    <tr style=\"text-align: right;\">\n",
       "      <th></th>\n",
       "      <th>url</th>\n",
       "      <th>status</th>\n",
       "    </tr>\n",
       "  </thead>\n",
       "  <tbody>\n",
       "  </tbody>\n",
       "</table>\n",
       "</div>"
      ],
      "text/plain": [
       "Empty DataFrame\n",
       "Columns: [url, status]\n",
       "Index: []"
      ]
     },
     "execution_count": 46,
     "metadata": {},
     "output_type": "execute_result"
    }
   ],
   "source": [
    "df[(df['url'].apply(has_space)) & (df.status == 1)]"
   ]
  },
  {
   "cell_type": "markdown",
   "id": "acefebba-604d-4ae4-877e-3d945239ff0a",
   "metadata": {},
   "source": [
    "### 1.5.5 Dropping URL's that has 2 or less characters"
   ]
  },
  {
   "cell_type": "markdown",
   "id": "e868d511-aef5-471d-919e-94f6d9906259",
   "metadata": {},
   "source": [
    "URL with only two characters doesn't make any sense. Most probably they are some inconsistencies during web scraping."
   ]
  },
  {
   "cell_type": "code",
   "execution_count": 50,
   "id": "2f7e6b00-18d4-49c6-a65e-9e815fe5ab93",
   "metadata": {},
   "outputs": [
    {
     "data": {
      "text/html": [
       "<div>\n",
       "<style scoped>\n",
       "    .dataframe tbody tr th:only-of-type {\n",
       "        vertical-align: middle;\n",
       "    }\n",
       "\n",
       "    .dataframe tbody tr th {\n",
       "        vertical-align: top;\n",
       "    }\n",
       "\n",
       "    .dataframe thead th {\n",
       "        text-align: right;\n",
       "    }\n",
       "</style>\n",
       "<table border=\"1\" class=\"dataframe\">\n",
       "  <thead>\n",
       "    <tr style=\"text-align: right;\">\n",
       "      <th></th>\n",
       "      <th>url</th>\n",
       "      <th>status</th>\n",
       "    </tr>\n",
       "  </thead>\n",
       "  <tbody>\n",
       "    <tr>\n",
       "      <th>210264</th>\n",
       "      <td>WY</td>\n",
       "      <td>1</td>\n",
       "    </tr>\n",
       "    <tr>\n",
       "      <th>670137</th>\n",
       "      <td></td>\n",
       "      <td>0</td>\n",
       "    </tr>\n",
       "    <tr>\n",
       "      <th>751998</th>\n",
       "      <td>IE</td>\n",
       "      <td>0</td>\n",
       "    </tr>\n",
       "    <tr>\n",
       "      <th>763032</th>\n",
       "      <td>cc</td>\n",
       "      <td>0</td>\n",
       "    </tr>\n",
       "    <tr>\n",
       "      <th>777359</th>\n",
       "      <td>gt</td>\n",
       "      <td>0</td>\n",
       "    </tr>\n",
       "    <tr>\n",
       "      <th>780127</th>\n",
       "      <td>ie</td>\n",
       "      <td>0</td>\n",
       "    </tr>\n",
       "    <tr>\n",
       "      <th>787310</th>\n",
       "      <td>lt</td>\n",
       "      <td>0</td>\n",
       "    </tr>\n",
       "  </tbody>\n",
       "</table>\n",
       "</div>"
      ],
      "text/plain": [
       "       url  status\n",
       "210264  WY       1\n",
       "670137           0\n",
       "751998  IE       0\n",
       "763032  cc       0\n",
       "777359  gt       0\n",
       "780127  ie       0\n",
       "787310  lt       0"
      ]
     },
     "execution_count": 50,
     "metadata": {},
     "output_type": "execute_result"
    }
   ],
   "source": [
    "df[df['url'].apply(lambda x: len(x) < 3)]"
   ]
  },
  {
   "cell_type": "code",
   "execution_count": 52,
   "id": "017678d9-7eb7-4da1-84ef-b151a457972d",
   "metadata": {},
   "outputs": [
    {
     "data": {
      "text/html": [
       "<div>\n",
       "<style scoped>\n",
       "    .dataframe tbody tr th:only-of-type {\n",
       "        vertical-align: middle;\n",
       "    }\n",
       "\n",
       "    .dataframe tbody tr th {\n",
       "        vertical-align: top;\n",
       "    }\n",
       "\n",
       "    .dataframe thead th {\n",
       "        text-align: right;\n",
       "    }\n",
       "</style>\n",
       "<table border=\"1\" class=\"dataframe\">\n",
       "  <thead>\n",
       "    <tr style=\"text-align: right;\">\n",
       "      <th></th>\n",
       "      <th>url</th>\n",
       "      <th>status</th>\n",
       "    </tr>\n",
       "  </thead>\n",
       "  <tbody>\n",
       "    <tr>\n",
       "      <th>210264</th>\n",
       "      <td>WY</td>\n",
       "      <td>1</td>\n",
       "    </tr>\n",
       "  </tbody>\n",
       "</table>\n",
       "</div>"
      ],
      "text/plain": [
       "       url  status\n",
       "210264  WY       1"
      ]
     },
     "execution_count": 52,
     "metadata": {},
     "output_type": "execute_result"
    }
   ],
   "source": [
    "df[(df['url'].apply(lambda x: len(x) < 3)) & (df.status == 1)]"
   ]
  },
  {
   "cell_type": "code",
   "execution_count": 54,
   "id": "95c91506-a029-4e04-84e3-8bebb9e1f827",
   "metadata": {},
   "outputs": [],
   "source": [
    "df = df[~df['url'].apply(lambda x: len(x) < 3)]"
   ]
  },
  {
   "cell_type": "code",
   "execution_count": 56,
   "id": "dab6610d-d6a8-4966-a424-78962b7ce69e",
   "metadata": {},
   "outputs": [],
   "source": [
    "df.reset_index(drop=True, inplace=True)"
   ]
  },
  {
   "cell_type": "code",
   "execution_count": 58,
   "id": "a530366a-35ba-4116-ba7a-f7a85c5ad5d0",
   "metadata": {},
   "outputs": [],
   "source": [
    "df.to_csv('../data/processed/url_new_cleaned.csv')"
   ]
  },
  {
   "cell_type": "code",
   "execution_count": null,
   "id": "2bdf92c0-808c-4f68-a536-b6791555d8c0",
   "metadata": {},
   "outputs": [],
   "source": []
  }
 ],
 "metadata": {
  "kernelspec": {
   "display_name": "Python 3 (ipykernel)",
   "language": "python",
   "name": "python3"
  },
  "language_info": {
   "codemirror_mode": {
    "name": "ipython",
    "version": 3
   },
   "file_extension": ".py",
   "mimetype": "text/x-python",
   "name": "python",
   "nbconvert_exporter": "python",
   "pygments_lexer": "ipython3",
   "version": "3.11.9"
  }
 },
 "nbformat": 4,
 "nbformat_minor": 5
}
