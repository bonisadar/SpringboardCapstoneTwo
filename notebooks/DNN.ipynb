{
 "cells": [
  {
   "cell_type": "code",
   "execution_count": 1,
   "id": "02b59cc5-91a0-48b1-a076-20d30053461b",
   "metadata": {},
   "outputs": [],
   "source": [
    "import pandas as pd\n",
    "import numpy as np\n",
    "\n",
    "import pickle\n",
    "\n",
    "import matplotlib.pyplot as plt\n",
    "import seaborn as sns\n",
    "\n",
    "from sklearn.ensemble import RandomForestClassifier\n",
    "from xgboost import XGBClassifier\n",
    "from sklearn.neighbors import KNeighborsClassifier\n",
    "from sklearn.cluster import KMeans\n",
    "from sklearn.svm import SVC\n",
    "\n",
    "from sklearn.model_selection import train_test_split, cross_val_score, RandomizedSearchCV, GridSearchCV\n",
    "from sklearn.metrics import accuracy_score, classification_report, confusion_matrix, precision_score, recall_score, f1_score, make_scorer\n",
    "from sklearn import tree, metrics\n",
    "from sklearn.preprocessing import StandardScaler\n",
    "from sklearn.decomposition import PCA, TruncatedSVD\n",
    "from sklearn.pipeline import Pipeline\n",
    "from sklearn.feature_extraction.text import TfidfVectorizer\n",
    "\n",
    "\n",
    "from tensorflow.keras.utils import to_categorical\n",
    "\n",
    "from tensorflow.keras.layers import Dense\n",
    "from tensorflow.keras.models import Sequential\n",
    "from tensorflow.keras.callbacks import EarlyStopping\n",
    "\n",
    "from tensorflow.keras.initializers import VarianceScaling\n",
    "from sklearn.preprocessing import StandardScaler"
   ]
  },
  {
   "cell_type": "code",
   "execution_count": 3,
   "id": "35384acc-afff-4c41-bb53-e6375be307a2",
   "metadata": {},
   "outputs": [],
   "source": [
    "with open('../data/interim/new_data_url_all_features.pkl', 'rb') as f:\n",
    "    df = pickle.load(f)"
   ]
  },
  {
   "cell_type": "code",
   "execution_count": 4,
   "id": "00e1bd40-0f85-4263-a35c-c944249f0513",
   "metadata": {},
   "outputs": [],
   "source": [
    "text_features = df.select_dtypes(include=['object'])\n",
    "df = df.drop(columns=text_features)\n",
    "basic_features = ['status', 'len_url','len_FQDN',\n",
    "       'len_tld','contains_ip', 'url_entropy', 'FQDN_entropy',\n",
    "       'tld_entropy', 'url_tld_entropy', 'has_js', 'js_entropy', 'num_pat_3',\n",
    "       'pat_3_entropy','FQDN_ratio_capital', 'url_len_capital',\n",
    "       'url_ratio_capital', 'url_char_num_ratio','url_spe_char_ratio','FQDN_char_num_ratio',\n",
    "       'FQDN_spe_char_ratio','url_obfuscation_status','FQDN_obfuscation_status', 'obfuscation_entropy_url',\n",
    "       'obfuscation_entropy_FQDN', 'url_repeated_subs_weight',          \n",
    "       'num_url_reapeated_subs', 'url_num_chunk_weight', 'n_hypens','n_uscores','n_semicolon','n_equal_sign', 'n_plus_sign',\n",
    "       'num_segments_FQDN', 'FQDN_seg_dot_sep_entropy',         \n",
    "       'tld_fuzzy_score_lev','tld_fuzzy_score_da_nor','tld_similarity_jaro_winkler','dot_probability',\n",
    "       'sum_spe_prob', 'similarity_index_legit', 'similarity_index_phi',\n",
    "       'english_word_count_url', 'english_word_count_FQDN']\n",
    "df = df[basic_features]"
   ]
  },
  {
   "cell_type": "code",
   "execution_count": 7,
   "id": "9f6f935c-f416-4fc0-997f-05537e46205c",
   "metadata": {},
   "outputs": [
    {
     "name": "stdout",
     "output_type": "stream",
     "text": [
      "status\n",
      "1    383990\n",
      "0    342859\n",
      "Name: count, dtype: int64\n"
     ]
    }
   ],
   "source": [
    "# Separate phishing (status=0) and legitimate (status=1) samples\n",
    "df_legit = df[df['status'] == 1]  # Legitimate URLs\n",
    "df_phish = df[df['status'] == 0]  # Phishing URLs\n",
    "\n",
    "# Reduce size to 1/10 while keeping balance\n",
    "df_legit_sample, _ = train_test_split(df_legit, train_size=.9, random_state=42, stratify=df_legit['status'])\n",
    "df_phish_sample, _ = train_test_split(df_phish, train_size=.9, random_state=42, stratify=df_phish['status'])\n",
    "# Combine the downsampled data\n",
    "df = pd.concat([df_legit_sample, df_phish_sample]).sample(frac=1, random_state=42).reset_index(drop=True)\n",
    "\n",
    "# Check the new class distribution\n",
    "print(df['status'].value_counts())"
   ]
  },
  {
   "cell_type": "code",
   "execution_count": 9,
   "id": "2d31c9c2-b2ad-4002-bb3e-6f96f3269687",
   "metadata": {},
   "outputs": [],
   "source": [
    "predictors = df.drop(columns=['status'])\n",
    "target = to_categorical(df['status'])\n",
    "predictors = predictors.to_numpy()\n",
    "target = to_categorical(df['status'])\n",
    "\n",
    "model = Sequential()\n",
    "n_cols = predictors.shape[1]\n",
    "input_shape = (n_cols,)\n",
    "model.add(Dense(1000, activation='relu', input_shape=input_shape))\n",
    "model.add(Dense(1000, activation='relu', input_shape=input_shape))\n",
    "\n",
    "\n",
    "model.add(Dense(1000, activation='relu', input_shape=input_shape))\n",
    "model.add(Dense(1000, activation='relu', input_shape=input_shape))\n",
    "model.add(Dense(1000, activation='relu', input_shape=input_shape))\n",
    "model.add(Dense(2, activation='sigmoid'))"
   ]
  },
  {
   "cell_type": "code",
   "execution_count": null,
   "id": "f0f7e42f-1a23-4a17-9cf7-2c068793080f",
   "metadata": {},
   "outputs": [
    {
     "name": "stdout",
     "output_type": "stream",
     "text": [
      "Epoch 1/400\n",
      "15900/15900 [==============================] - 666s 42ms/step - loss: 0.3474 - accuracy: 0.8434 - val_loss: 0.3371 - val_accuracy: 0.8413\n",
      "Epoch 2/400\n",
      " 6481/15900 [===========>..................] - ETA: 6:20 - loss: 0.3135 - accuracy: 0.8597"
     ]
    }
   ],
   "source": [
    "model.compile(optimizer='adam', loss='binary_crossentropy', metrics=['accuracy'])\n",
    "model.fit(predictors, target, validation_split=0.3, epochs=400)"
   ]
  },
  {
   "cell_type": "code",
   "execution_count": null,
   "id": "de2446c7-ce53-4fef-83ec-07ebe68208ea",
   "metadata": {},
   "outputs": [],
   "source": [
    "\n",
    "# early_stopping_monitor = EarlyStopping(patience=5)"
   ]
  },
  {
   "cell_type": "code",
   "execution_count": null,
   "id": "137298d4-3ccb-47a2-9974-12d2e44152d9",
   "metadata": {},
   "outputs": [],
   "source": []
  },
  {
   "cell_type": "code",
   "execution_count": null,
   "id": "9faf90d2-29c0-48d9-a460-b8723ef8f325",
   "metadata": {},
   "outputs": [],
   "source": []
  },
  {
   "cell_type": "code",
   "execution_count": null,
   "id": "dff206dc-7482-4e14-a1a1-e94d2555ca97",
   "metadata": {},
   "outputs": [],
   "source": [
    "model.compile(optimizer='adam', loss='binary_crossentropy', metrics=['accuracy'])\n",
    "model.fit(predictors, target, validation_split=0.3, epochs=30)"
   ]
  },
  {
   "cell_type": "code",
   "execution_count": null,
   "id": "1dcfe88d-5253-4b2c-82a3-66496e51e8dc",
   "metadata": {},
   "outputs": [],
   "source": [
    "model.compile(optimizer='adam', loss='binary_crossentropy', metrics=['accuracy'])\n",
    "model.fit(predictors, target, validation_split=0.3, epochs=30, callbacks=[early_stopping_monitor])"
   ]
  },
  {
   "cell_type": "code",
   "execution_count": null,
   "id": "52c5aecd-10ee-4481-98d8-2cd2143376bb",
   "metadata": {},
   "outputs": [],
   "source": [
    "scaler = StandardScaler()\n",
    "predictors = scaler.fit_transform(predictors)"
   ]
  },
  {
   "cell_type": "code",
   "execution_count": null,
   "id": "c64528b6-5241-48d8-8e56-68eb0754d25e",
   "metadata": {},
   "outputs": [],
   "source": [
    "model = Sequential()\n",
    "\n",
    "# Adding layers with variance scaling initialization\n",
    "model.add(Dense(500, activation='relu', input_shape=input_shape, kernel_initializer=VarianceScaling()))\n",
    "model.add(Dense(500, activation='relu', kernel_initializer=VarianceScaling()))\n",
    "model.add(Dense(500, activation='relu', kernel_initializer=VarianceScaling()))\n",
    "model.add(Dense(500, activation='relu', kernel_initializer=VarianceScaling()))\n",
    "\n",
    "# Output layer (no activation for binary classification)\n",
    "model.add(Dense(1))  # No activation, using binary_crossentropy\n",
    "\n",
    "# Compile model\n",
    "model.compile(optimizer='adam', loss='binary_crossentropy', metrics=['accuracy'])\n",
    "\n",
    "# Set up early stopping to avoid overfitting\n",
    "early_stopping_monitor = EarlyStopping(patience=3)\n",
    "\n",
    "# Train model\n",
    "model.fit(predictors, target, validation_split=0.3, epochs=30, callbacks=[early_stopping_monitor])"
   ]
  },
  {
   "cell_type": "code",
   "execution_count": null,
   "id": "c0e6b418-7d1f-4f57-879f-f81caa84b93a",
   "metadata": {},
   "outputs": [],
   "source": []
  }
 ],
 "metadata": {
  "kernelspec": {
   "display_name": "Python 3 (ipykernel)",
   "language": "python",
   "name": "python3"
  },
  "language_info": {
   "codemirror_mode": {
    "name": "ipython",
    "version": 3
   },
   "file_extension": ".py",
   "mimetype": "text/x-python",
   "name": "python",
   "nbconvert_exporter": "python",
   "pygments_lexer": "ipython3",
   "version": "3.11.9"
  }
 },
 "nbformat": 4,
 "nbformat_minor": 5
}
